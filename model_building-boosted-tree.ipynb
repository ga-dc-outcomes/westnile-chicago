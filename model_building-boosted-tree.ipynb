{
 "cells": [
  {
   "cell_type": "code",
   "execution_count": 1,
   "metadata": {},
   "outputs": [],
   "source": [
    "import pandas as pd\n",
    "import numpy as np\n",
    "from sklearn import ensemble, preprocessing\n",
    "import datetime as dt\n",
    "from sklearn import model_selection\n",
    "from matplotlib import pyplot as plt\n",
    "import seaborn as sns\n",
    "%matplotlib inline"
   ]
  },
  {
   "cell_type": "code",
   "execution_count": 2,
   "metadata": {
    "collapsed": true
   },
   "outputs": [],
   "source": [
    "\n",
    "# Load dataset \n",
    "train = pd.read_csv('asset/train.csv')\n",
    "test = pd.read_csv('asset/test.csv')\n",
    "sample = pd.read_csv('asset/sampleSubmission.csv')\n",
    "weather = pd.read_csv('asset/weather.csv')\n",
    "spray = pd.read_csv('asset/spray.csv')\n",
    "\n",
    "# Get labels\n",
    "labels = train.WnvPresent.values\n",
    "\n",
    "# Creating dummy variables for the weather data\n",
    "weather.CodeSum = weather.CodeSum.apply(str.split)\n",
    "for (i,list_) in enumerate(weather.CodeSum):\n",
    "    for item in list_:\n",
    "        if item not in weather.columns:\n",
    "            weather[item] = 0\n",
    "        weather.set_value(col=item,index=i,value=1)\n",
    "\n",
    "\n",
    "# Not using codesum anymore\n",
    "weather = weather.drop('CodeSum', axis=1)\n",
    "# Split station 1 and 2 and join horizontally\n",
    "weather_stn1 = weather[weather['Station']==1]\n",
    "weather_stn2 = weather[weather['Station']==2]\n",
    "weather_stn1 = weather_stn1.drop('Station', axis=1)\n",
    "weather_stn2 = weather_stn2.drop('Station', axis=1)\n",
    "weather = weather_stn1.merge(weather_stn2, on='Date')\n",
    "\n",
    "train.Date = pd.to_datetime(train.Date)\n",
    "test.Date = pd.to_datetime(test.Date)\n",
    "weather.Date = pd.to_datetime(weather.Date)\n",
    "spray.Date = pd.to_datetime(spray.Date)"
   ]
  },
  {
   "cell_type": "code",
   "execution_count": 3,
   "metadata": {
    "collapsed": true
   },
   "outputs": [],
   "source": [
    "# for c in weather.columns:\n",
    "#     print(c)\n",
    "#     print (weather[c].value_counts())"
   ]
  },
  {
   "cell_type": "code",
   "execution_count": 4,
   "metadata": {
    "collapsed": true
   },
   "outputs": [],
   "source": [
    "# replace some missing values and T with -1\n",
    "weather = weather.replace('M', -1)\n",
    "weather = weather.replace('-', 0)\n",
    "weather = weather.replace('T', 0)\n",
    "weather = weather.replace(' T', 0)\n",
    "weather = weather.replace('  T', 0)"
   ]
  },
  {
   "cell_type": "code",
   "execution_count": 5,
   "metadata": {
    "collapsed": true
   },
   "outputs": [],
   "source": [
    "# Functions to extract month and day from dataset\n",
    "train['year'] = train['Date'].dt.year\n",
    "train['month'] = train['Date'].dt.month\n",
    "train['day'] = train['Date'].dt.day\n",
    "test['year'] = test['Date'].dt.year\n",
    "test['month'] = test['Date'].dt.month\n",
    "test['day'] = test['Date'].dt.day\n",
    "\n",
    "# Add integer latitude/longitude columns\n",
    "train['Lat_int'] = train.Latitude.apply(int)\n",
    "train['Long_int'] = train.Longitude.apply(int)\n",
    "test['Lat_int'] = test.Latitude.apply(int)\n",
    "test['Long_int'] = test.Longitude.apply(int)"
   ]
  },
  {
   "cell_type": "code",
   "execution_count": 6,
   "metadata": {
    "collapsed": true
   },
   "outputs": [],
   "source": [
    "# drop address columns\n",
    "train = train.drop(['Address', 'AddressNumberAndStreet','WnvPresent', 'NumMosquitos'], axis = 1)\n",
    "test = test.drop(['Id', 'Address', 'AddressNumberAndStreet'], axis = 1)"
   ]
  },
  {
   "cell_type": "code",
   "execution_count": 7,
   "metadata": {
    "collapsed": true
   },
   "outputs": [],
   "source": [
    "# Merge with weather data\n",
    "train = train.merge(weather, on='Date')\n",
    "test = test.merge(weather, on='Date')\n",
    "\n",
    "# train = train.merge(spray, on='Date')\n",
    "# test = test.merge(spray, on='Date')"
   ]
  },
  {
   "cell_type": "code",
   "execution_count": 8,
   "metadata": {
    "collapsed": true
   },
   "outputs": [],
   "source": [
    "# This function allows you to create columns for the data_df input that will have a value of 1 or zero\n",
    "# If a trap has been sprayed with in the time period specified\n",
    "\n",
    "def create_sprayed_cols(data_df, spray_df, time_period=2):\n",
    "    # Iterating over unique dates that sprays took place\n",
    "    # Sprays took place over 10 days as trucks drove around chicago\n",
    "    for date in set(spray_df.Date):\n",
    "        # I only want data for this unique date\n",
    "        spray_temp = spray_df[spray_df.Date == date]\n",
    "        # Resetting index to make iterating easier\n",
    "        spray_temp.index = range(0, len(spray_temp))\n",
    "        \n",
    "        # I am creating a column for every unique date and initalizing it's rows to 0\n",
    "        # I will set these values to 1 when I find a trap that was sprayed\n",
    "        col_name = 'spray_'+date.strftime('%Y-%m-%d')+\"_\"+str(time_period)\n",
    "        data_df[col_name] = 0\n",
    "\n",
    "        # Iterating over each row of our training data to determine if a trap is in the location\n",
    "        # of a spray. I am also checking to see if the spray was in the past\n",
    "        for r in range(0,len(data_df)):\n",
    "            if data_df.get_value(r,'Date') > date and data_df.get_value(r,'Date') < date + pd.Timedelta(weeks=2) :\n",
    "\n",
    "                # I am casting the lat and long to ints, and multiplaying by 100 to truncate precision\n",
    "                # In other words, I'm taking pin points and making them into squares\n",
    "                cur_lat = int(data_df.get_value(r, 'Latitude') * 100)\n",
    "                cur_long = int(data_df.get_value(r, 'Longitude') * 100)\n",
    "                \n",
    "                # Iterating over each value in my spray data\n",
    "                for i in range(0, len(spray_temp)):\n",
    "\n",
    "                    spray_lat = int(spray_temp.get_value(i,'Latitude')*100)\n",
    "                    spray_long = int(spray_temp.get_value(i,'Longitude')*100)\n",
    "\n",
    "                    # I am now checking if something is in the square +/- some threshold\n",
    "                    if (cur_lat < spray_lat + 10 and cur_lat > spray_lat - 10) and \\\n",
    "                    (cur_long < spray_long + 10 and cur_long > spray_long - 10):\n",
    "                        data_df.set_value(r,col_name, 1)\n",
    "                        break"
   ]
  },
  {
   "cell_type": "code",
   "execution_count": 9,
   "metadata": {
    "collapsed": true
   },
   "outputs": [],
   "source": [
    "create_sprayed_cols(train, spray, time_period=10)\n",
    "create_sprayed_cols(test,spray, time_period=10)"
   ]
  },
  {
   "cell_type": "code",
   "execution_count": 10,
   "metadata": {
    "collapsed": true
   },
   "outputs": [],
   "source": [
    "#Convert categorical data to numbers\n",
    "lbl = preprocessing.LabelEncoder()\n",
    "lbl.fit(list(train['Species'].values) + list(test['Species'].values))\n",
    "train['Species'] = lbl.transform(train['Species'].values)\n",
    "test['Species'] = lbl.transform(test['Species'].values)\n",
    "\n",
    "lbl.fit(list(train['Street'].values) + list(test['Street'].values))\n",
    "train['Street'] = lbl.transform(train['Street'].values)\n",
    "test['Street'] = lbl.transform(test['Street'].values)\n",
    "\n",
    "lbl.fit(list(train['Trap'].values) + list(test['Trap'].values))\n",
    "train['Trap'] = lbl.transform(train['Trap'].values)\n",
    "test['Trap'] = lbl.transform(test['Trap'].values)\n",
    "\n",
    "train = pd.get_dummies(train, prefix = ['Trap', 'Species'],\\\n",
    "                                      columns=['Trap','Species'],drop_first=True)\n",
    "test = pd.get_dummies(test, prefix = ['Trap', 'Species'],\\\n",
    "                                     columns=['Trap','Species'], drop_first=True)\n"
   ]
  },
  {
   "cell_type": "code",
   "execution_count": 11,
   "metadata": {
    "collapsed": true
   },
   "outputs": [],
   "source": [
    "# drop columns with -1s\n",
    "train = train.loc[:,(train != -1).any(axis=0)]\n",
    "test = test.loc[:,(test != -1).any(axis=0)]"
   ]
  },
  {
   "cell_type": "code",
   "execution_count": 12,
   "metadata": {
    "collapsed": true
   },
   "outputs": [],
   "source": [
    "train = train.drop('Date', axis=1)\n",
    "test = test.drop('Date', axis=1)\n",
    "train = train.drop(set(train.columns) - set(test.columns), axis=1)\n",
    "test = test.drop(set(test.columns) - set(train.columns), axis=1)"
   ]
  },
  {
   "cell_type": "code",
   "execution_count": 13,
   "metadata": {},
   "outputs": [
    {
     "name": "stderr",
     "output_type": "stream",
     "text": [
      "/home/roland/anaconda3/envs/ga-immersive/lib/python2.7/site-packages/ipykernel_launcher.py:1: FutureWarning: convert_objects is deprecated.  Use the data-type specific converters pd.to_datetime, pd.to_timedelta and pd.to_numeric.\n",
      "  \"\"\"Entry point for launching an IPython kernel.\n",
      "/home/roland/anaconda3/envs/ga-immersive/lib/python2.7/site-packages/ipykernel_launcher.py:2: FutureWarning: convert_objects is deprecated.  Use the data-type specific converters pd.to_datetime, pd.to_timedelta and pd.to_numeric.\n",
      "  \n"
     ]
    }
   ],
   "source": [
    "_ = train.convert_objects(convert_numeric=True)\n",
    "_ = test.convert_objects(convert_numeric=True)"
   ]
  },
  {
   "cell_type": "markdown",
   "metadata": {},
   "source": [
    "# Grid searching below"
   ]
  },
  {
   "cell_type": "code",
   "execution_count": 14,
   "metadata": {
    "collapsed": true
   },
   "outputs": [],
   "source": [
    "n_estimators = [50,300,1000]\n",
    "criterion = ['entropy']\n",
    "max_depth = [2,3,5,10,12]\n",
    "min_samples_split = [2,5,7,10]\n",
    "max_features = [5,10,20,55,50,60]\n",
    "clf = ensemble.GradientBoostingClassifier()"
   ]
  },
  {
   "cell_type": "code",
   "execution_count": 15,
   "metadata": {},
   "outputs": [
    {
     "data": {
      "text/plain": [
       "GridSearchCV(cv=None, error_score='raise',\n",
       "       estimator=GradientBoostingClassifier(criterion='friedman_mse', init=None,\n",
       "              learning_rate=0.1, loss='deviance', max_depth=3,\n",
       "              max_features=None, max_leaf_nodes=None,\n",
       "              min_impurity_split=1e-07, min_samples_leaf=1,\n",
       "              min_samples_split=2, min_weight_fraction_leaf=0.0,\n",
       "              n_estimators=100, presort='auto', random_state=None,\n",
       "              subsample=1.0, verbose=0, warm_start=False),\n",
       "       fit_params={}, iid=True, n_jobs=1,\n",
       "       param_grid={'min_samples_split': [2, 5, 7, 10], 'max_features': [5, 10, 20, 55, 50, 60], 'n_estimators': [50, 300, 1000], 'max_depth': [2, 3, 5, 10, 12]},\n",
       "       pre_dispatch='2*n_jobs', refit=True, return_train_score=True,\n",
       "       scoring='roc_auc', verbose=0)"
      ]
     },
     "execution_count": 15,
     "metadata": {},
     "output_type": "execute_result"
    }
   ],
   "source": [
    "# Random Forest Classifier \n",
    "grid = model_selection.GridSearchCV(estimator=clf, scoring='roc_auc', param_grid=dict(n_estimators=n_estimators,\n",
    "                                                    max_depth=max_depth, max_features=max_features, min_samples_split=min_samples_split))\n",
    "\n",
    "grid.fit(train,labels)\n"
   ]
  },
  {
   "cell_type": "markdown",
   "metadata": {},
   "source": [
    "### Evaluating results"
   ]
  },
  {
   "cell_type": "code",
   "execution_count": 16,
   "metadata": {
    "collapsed": true
   },
   "outputs": [],
   "source": [
    "grid.best_estimator_.fit(train, labels)\n",
    "\n",
    "# create predictions and submission file\n",
    "predictions = grid.best_estimator_.predict_proba(test)[:,1]\n",
    "sample['WnvPresent'] = predictions\n",
    "sample.to_csv('beat_the_benchmark.csv', index=False)"
   ]
  },
  {
   "cell_type": "code",
   "execution_count": 17,
   "metadata": {},
   "outputs": [
    {
     "data": {
      "text/plain": [
       "0.73999273534403121"
      ]
     },
     "execution_count": 17,
     "metadata": {},
     "output_type": "execute_result"
    }
   ],
   "source": [
    "grid.best_score_"
   ]
  },
  {
   "cell_type": "code",
   "execution_count": 18,
   "metadata": {},
   "outputs": [
    {
     "data": {
      "text/plain": [
       "0.052446221206929371"
      ]
     },
     "execution_count": 18,
     "metadata": {},
     "output_type": "execute_result"
    }
   ],
   "source": [
    "sum(labels)/float(len(labels))"
   ]
  },
  {
   "cell_type": "code",
   "execution_count": 19,
   "metadata": {},
   "outputs": [
    {
     "data": {
      "text/plain": [
       "0.70865034275177174"
      ]
     },
     "execution_count": 19,
     "metadata": {},
     "output_type": "execute_result"
    }
   ],
   "source": [
    "np.mean(model_selection.cross_val_score(grid.best_estimator_, X=train, y=labels, scoring='roc_auc', n_jobs=7))"
   ]
  },
  {
   "cell_type": "code",
   "execution_count": 20,
   "metadata": {
    "collapsed": true
   },
   "outputs": [],
   "source": [
    "model = grid.best_estimator_\n"
   ]
  },
  {
   "cell_type": "markdown",
   "metadata": {},
   "source": [
    "#### Looking at feature importances"
   ]
  },
  {
   "cell_type": "code",
   "execution_count": 21,
   "metadata": {
    "scrolled": true
   },
   "outputs": [
    {
     "name": "stdout",
     "output_type": "stream",
     "text": [
      "Feature ranking:\n",
      "Longitude: 0.0552594189699\n",
      "Sunrise_x: 0.0538075165102\n",
      "year: 0.049166870573\n",
      "Sunset_x: 0.0476920544263\n",
      "ResultSpeed_x: 0.0375721376172\n",
      "Street: 0.0319094272293\n",
      "Latitude: 0.026767865715\n",
      "ResultDir_x: 0.0262586133865\n",
      "Tmin_y: 0.0237769321595\n",
      "WetBulb_y: 0.0217020693562\n",
      "ResultDir_y: 0.0215201984324\n",
      "StnPressure_y: 0.0194404583589\n",
      "StnPressure_x: 0.0186511874252\n",
      "TS_x: 0.0162342733553\n",
      "Species_3: 0.0156173452624\n",
      "Depart_x: 0.015252143194\n",
      "DewPoint_y: 0.0146800133804\n",
      "Species_6: 0.0145960610555\n",
      "Trap_80: 0.0144022777818\n",
      "Trap_133: 0.0142290100574\n",
      "month: 0.0129726423617\n",
      "Trap_13: 0.0123854807614\n",
      "Tmin_x: 0.0123428900535\n",
      "DewPoint_x: 0.0121806096911\n",
      "Tavg_y: 0.0116712463119\n",
      "Trap_4: 0.0115444415481\n",
      "Cool_x: 0.0112610776911\n",
      "Block: 0.0102903322631\n",
      "spray_2013-09-05_10: 0.0102213217244\n",
      "Trap_143: 0.0101390411131\n",
      "PrecipTotal_y: 0.010031236943\n",
      "Trap_1: 0.0100154797584\n",
      "Trap_22: 0.00998712025101\n",
      "spray_2013-08-29_10: 0.00997088360986\n",
      "SeaLevel_y: 0.00964789125627\n",
      "spray_2013-08-15_10: 0.00939457330068\n",
      "ResultSpeed_y: 0.00925472616856\n",
      "AvgSpeed_y: 0.0090328576587\n",
      "Trap_32: 0.0089239159137\n",
      "Trap_144: 0.00841749097887\n",
      "Trap_17: 0.00840618485992\n",
      "Tmax_y: 0.00837530334908\n",
      "Trap_44: 0.00817729700914\n",
      "day: 0.00810157193619\n",
      "Trap_64: 0.00801208414498\n",
      "Trap_68: 0.00781683286431\n",
      "Species_1: 0.00773949208659\n",
      "AvgSpeed_x: 0.00769748358111\n",
      "Trap_138: 0.00755373675377\n",
      "SeaLevel_x: 0.00682393750752\n",
      "spray_2013-08-22_10: 0.00672070430812\n",
      "Species_4: 0.00642345975435\n",
      "FG_y: 0.00639029550467\n",
      "Trap_35: 0.00550833229854\n",
      "Trap_136: 0.00533283521646\n",
      "spray_2013-08-16_10: 0.00523044177694\n",
      "Trap_21: 0.00498795254325\n",
      "Trap_129: 0.0048062376846\n",
      "Trap_11: 0.00479840545111\n",
      "Tavg_x: 0.0045640101915\n",
      "Trap_96: 0.00425624647364\n",
      "Cool_y: 0.00425012303914\n",
      "Trap_87: 0.00420199512527\n",
      "Trap_139: 0.0041647374207\n",
      "Trap_36: 0.0040366909025\n",
      "Trap_79: 0.00375281589751\n",
      "Trap_111: 0.00346278655046\n",
      "Trap_148: 0.0034309030069\n",
      "Trap_106: 0.00336803633456\n",
      "Trap_20: 0.00314293562099\n",
      "Trap_24: 0.00313093386554\n",
      "HZ_x: 0.00304342268629\n",
      "Trap_147: 0.00300392665414\n",
      "HZ_y: 0.00291447693747\n",
      "Trap_25: 0.00284013618435\n",
      "Trap_69: 0.00275079097168\n",
      "Trap_53: 0.00274611040409\n",
      "Trap_63: 0.00270598240948\n",
      "Trap_82: 0.00270311003157\n",
      "WetBulb_x: 0.00267300916217\n",
      "Tmax_x: 0.00265361275135\n",
      "Trap_141: 0.00259043090325\n",
      "BR_y: 0.00252077539029\n",
      "Trap_45: 0.00237637623121\n",
      "Trap_16: 0.00225474113116\n",
      "Trap_104: 0.00221345331726\n",
      "Trap_98: 0.00218491975141\n",
      "Trap_7: 0.00218353333193\n",
      "spray_2013-08-08_10: 0.00211668181788\n",
      "TSRA_y: 0.00201456062245\n",
      "Species_2: 0.0018152128476\n",
      "Trap_47: 0.00172522847826\n",
      "Trap_86: 0.00161775287733\n",
      "Trap_100: 0.00147239422973\n",
      "Trap_134: 0.00146435699231\n",
      "spray_2011-09-07_10: 0.00142550596998\n",
      "Trap_39: 0.00141330011409\n",
      "Trap_57: 0.00136087032481\n",
      "Trap_19: 0.00133436890176\n",
      "Trap_76: 0.00115315327852\n",
      "Trap_116: 0.00106241572466\n",
      "Trap_18: 0.00106152472174\n",
      "Trap_88: 0.00100106322476\n",
      "Trap_51: 0.000973149386405\n",
      "TSRA_x: 0.000963072367877\n",
      "Trap_23: 0.00089055237052\n",
      "Trap_27: 0.000866682170355\n",
      "Trap_5: 0.000778525637157\n",
      "Trap_34: 0.000722982293378\n",
      "Trap_109: 0.000664617348466\n",
      "Trap_70: 0.000656365257718\n",
      "Trap_71: 0.000593724308202\n",
      "Trap_77: 0.000564650803575\n",
      "AddressAccuracy: 0.000457965668401\n",
      "Trap_122: 0.000409601667924\n",
      "Trap_131: 0.000371933870358\n",
      "PrecipTotal_x: 0.000365296937179\n",
      "Trap_130: 0.000316537605869\n",
      "Trap_46: 0.000315958451464\n",
      "Trap_85: 0.000279679341088\n",
      "Trap_107: 0.000277174198228\n",
      "Trap_113: 0.000248395276633\n",
      "Species_5: 0.0\n",
      "Trap_146: 0.0\n",
      "Trap_145: 0.0\n",
      "Trap_140: 0.0\n",
      "Trap_137: 0.0\n",
      "Trap_135: 0.0\n",
      "Trap_132: 0.0\n",
      "Trap_128: 0.0\n",
      "Trap_127: 0.0\n",
      "Trap_123: 0.0\n",
      "Trap_121: 0.0\n",
      "Trap_120: 0.0\n",
      "Trap_119: 0.0\n",
      "Trap_115: 0.0\n",
      "Trap_114: 0.0\n",
      "Trap_112: 0.0\n",
      "Trap_110: 0.0\n",
      "Trap_108: 0.0\n",
      "Trap_105: 0.0\n",
      "Trap_103: 0.0\n",
      "Trap_102: 0.0\n",
      "Trap_101: 0.0\n",
      "Trap_99: 0.0\n",
      "Trap_97: 0.0\n",
      "Trap_95: 0.0\n",
      "Trap_94: 0.0\n",
      "Trap_93: 0.0\n",
      "Trap_92: 0.0\n",
      "Trap_91: 0.0\n",
      "Trap_89: 0.0\n",
      "Trap_84: 0.0\n",
      "Trap_83: 0.0\n",
      "Trap_81: 0.0\n",
      "Trap_78: 0.0\n",
      "Trap_75: 0.0\n",
      "Trap_67: 0.0\n",
      "Trap_66: 0.0\n",
      "Trap_65: 0.0\n",
      "Trap_62: 0.0\n",
      "Trap_61: 0.0\n",
      "Trap_60: 0.0\n",
      "Trap_59: 0.0\n",
      "Trap_58: 0.0\n",
      "Trap_56: 0.0\n",
      "Trap_55: 0.0\n",
      "Trap_54: 0.0\n",
      "Trap_52: 0.0\n",
      "Trap_50: 0.0\n",
      "Trap_49: 0.0\n",
      "Trap_43: 0.0\n",
      "Trap_42: 0.0\n",
      "Trap_41: 0.0\n",
      "Trap_40: 0.0\n",
      "Trap_38: 0.0\n",
      "Trap_37: 0.0\n",
      "Trap_33: 0.0\n",
      "Trap_31: 0.0\n",
      "Trap_30: 0.0\n",
      "Trap_29: 0.0\n",
      "Trap_28: 0.0\n",
      "Trap_26: 0.0\n",
      "Trap_15: 0.0\n",
      "Trap_14: 0.0\n",
      "Trap_12: 0.0\n",
      "Trap_10: 0.0\n",
      "Trap_9: 0.0\n",
      "Trap_8: 0.0\n",
      "Trap_6: 0.0\n",
      "spray_2013-07-25_10: 0.0\n",
      "spray_2011-08-29_10: 0.0\n",
      "spray_2013-07-17_10: 0.0\n",
      "GR_y: 0.0\n",
      "VCFG_y: 0.0\n",
      "SN_y: 0.0\n",
      "SQ_y: 0.0\n",
      "MIFG_y: 0.0\n",
      "FG+_y: 0.0\n",
      "BCFG_y: 0.0\n",
      "DZ_y: 0.0\n",
      "TS_y: 0.0\n",
      "FU_y: 0.0\n",
      "VCTS_y: 0.0\n",
      "RA_y: 0.0\n",
      "Sunset_y: 0.0\n",
      "Sunrise_y: 0.0\n",
      "Heat_y: 0.0\n",
      "GR_x: 0.0\n",
      "VCFG_x: 0.0\n",
      "SN_x: 0.0\n",
      "SQ_x: 0.0\n",
      "FG_x: 0.0\n",
      "MIFG_x: 0.0\n",
      "FG+_x: 0.0\n",
      "BCFG_x: 0.0\n",
      "DZ_x: 0.0\n",
      "FU_x: 0.0\n",
      "VCTS_x: 0.0\n",
      "RA_x: 0.0\n",
      "BR_x: 0.0\n",
      "SnowFall_x: 0.0\n",
      "Depth_x: 0.0\n",
      "Heat_x: 0.0\n",
      "Long_int: 0.0\n",
      "Lat_int: 0.0\n"
     ]
    },
    {
     "data": {
      "text/plain": [
       "<matplotlib.axes._subplots.AxesSubplot at 0x7f54e033b990>"
      ]
     },
     "execution_count": 21,
     "metadata": {},
     "output_type": "execute_result"
    },
    {
     "data": {
      "image/png": "[encoded data removed]",
      "text/plain": [
       "<matplotlib.figure.Figure at 0x7f551c889f10>"
      ]
     },
     "metadata": {},
     "output_type": "display_data"
    }
   ],
   "source": [
    "# Zipping feature importances and sorting by how importnat they are\n",
    "importances = zip(train.columns,model.feature_importances_)\n",
    "importances.sort(key=lambda x: x[1])\n",
    "importances = importances[::-1]\n",
    "std = np.std([model.feature_importances_ for tree in model.estimators_],\n",
    "             axis=0)\n",
    "\n",
    "# Print the feature ranking\n",
    "print(\"Feature ranking:\")\n",
    "\n",
    "for f in range(train.shape[1]):\n",
    "    print(\"{}: {}\".format(importances[f][0], importances[f][1]))\n",
    "\n",
    "# Plot the feature importances of the forest\n",
    "sns.barplot(x=train.columns, y=model.feature_importances_)\n"
   ]
  },
  {
   "cell_type": "code",
   "execution_count": 22,
   "metadata": {},
   "outputs": [
    {
     "data": {
      "text/plain": [
       "{'max_depth': 2,\n",
       " 'max_features': 50,\n",
       " 'min_samples_split': 5,\n",
       " 'n_estimators': 300}"
      ]
     },
     "execution_count": 22,
     "metadata": {},
     "output_type": "execute_result"
    }
   ],
   "source": [
    "grid.best_params_"
   ]
  },
  {
   "cell_type": "code",
   "execution_count": null,
   "metadata": {
    "collapsed": true
   },
   "outputs": [],
   "source": []
  }
 ],
 "metadata": {
  "kernelspec": {
   "display_name": "Python 2",
   "language": "python",
   "name": "python2"
  },
  "language_info": {
   "codemirror_mode": {
    "name": "ipython",
    "version": 2
   },
   "file_extension": ".py",
   "mimetype": "text/x-python",
   "name": "python",
   "nbconvert_exporter": "python",
   "pygments_lexer": "ipython2",
   "version": "2.7.13"
  }
 },
 "nbformat": 4,
 "nbformat_minor": 2
}
