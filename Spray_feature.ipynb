{
 "cells": [
  {
   "cell_type": "code",
   "execution_count": 1,
   "metadata": {
    "collapsed": true
   },
   "outputs": [],
   "source": [
    "import pandas as pd\n",
    "import numpy as np\n",
    "from sklearn import ensemble, preprocessing\n",
    "import datetime as dt\n",
    "from sklearn import model_selection\n",
    "from matplotlib import pyplot as plt\n",
    "import seaborn as sns\n",
    "%matplotlib inline\n",
    "\n",
    "# Load dataset \n",
    "train = pd.read_csv('asset/train.csv')\n",
    "test = pd.read_csv('asset/test.csv')\n",
    "sample = pd.read_csv('asset/sampleSubmission.csv')\n",
    "weather = pd.read_csv('asset/weather.csv')\n",
    "spray = pd.read_csv('asset/spray.csv')\n",
    "\n",
    "# Get labels\n",
    "labels = train.WnvPresent.values\n",
    "\n",
    "# Creating dummy variables for the weather data\n",
    "weather.CodeSum = weather.CodeSum.apply(str.split)\n",
    "for (i,list_) in enumerate(weather.CodeSum):\n",
    "    for item in list_:\n",
    "        if item not in weather.columns:\n",
    "            weather[item] = 0\n",
    "        weather.set_value(col=item,index=i,value=1)\n",
    "\n",
    "\n",
    "# Not using codesum anymore\n",
    "weather = weather.drop('CodeSum', axis=1)\n",
    "# Split station 1 and 2 and join horizontally\n",
    "weather_stn1 = weather[weather['Station']==1]\n",
    "weather_stn2 = weather[weather['Station']==2]\n",
    "weather_stn1 = weather_stn1.drop('Station', axis=1)\n",
    "weather_stn2 = weather_stn2.drop('Station', axis=1)\n",
    "weather = weather_stn1.merge(weather_stn2, on='Date')\n",
    "\n",
    "train.Date = pd.to_datetime(train.Date)\n",
    "test.Date = pd.to_datetime(test.Date)\n",
    "weather.Date = pd.to_datetime(weather.Date)\n",
    "spray.Date = pd.to_datetime(spray.Date)"
   ]
  },
  {
   "cell_type": "code",
   "execution_count": 301,
   "metadata": {},
   "outputs": [],
   "source": [
    "min_spray = spray.groupby('Date').min()\n",
    "max_spary = spray.groupby('Date').max()"
   ]
  },
  {
   "cell_type": "code",
   "execution_count": 302,
   "metadata": {},
   "outputs": [],
   "source": [
    "spray_desc = spray.groupby('Date').describe()"
   ]
  },
  {
   "cell_type": "code",
   "execution_count": 297,
   "metadata": {},
   "outputs": [
    {
     "data": {
      "text/plain": [
       "Date\n",
       "2011-08-29    42.389460\n",
       "2011-09-07    41.968435\n",
       "2013-07-17    41.714098\n",
       "2013-07-25    41.939308\n",
       "2013-08-08    41.917227\n",
       "2013-08-15    41.887825\n",
       "2013-08-16    41.911375\n",
       "2013-08-22    41.713925\n",
       "2013-08-29    41.758812\n",
       "2013-09-05    41.976773\n",
       "Name: min, dtype: float64"
      ]
     },
     "execution_count": 297,
     "metadata": {},
     "output_type": "execute_result"
    }
   ],
   "source": [
    "spray_desc.Latitude['min']"
   ]
  },
  {
   "cell_type": "code",
   "execution_count": 286,
   "metadata": {},
   "outputs": [],
   "source": [
    "# lat = pd.DataFrame(spray_desc.Latitude['max']).join(spray_desc.Latitude['min'])"
   ]
  },
  {
   "cell_type": "code",
   "execution_count": 287,
   "metadata": {
    "collapsed": true
   },
   "outputs": [],
   "source": [
    "# lon = pd.DataFrame(spray_desc.Longitude['max']).join(spray_desc.Longitude['min'])"
   ]
  },
  {
   "cell_type": "code",
   "execution_count": 289,
   "metadata": {},
   "outputs": [],
   "source": [
    "# plt.subplot()\n",
    "# for c in lat.index:\n",
    "#     spray[spray.Date == c].plot(x='Longitude', y='Latitude',style='.')\n",
    "#     plt.autoscale()"
   ]
  },
  {
   "cell_type": "code",
   "execution_count": 290,
   "metadata": {},
   "outputs": [],
   "source": [
    "# # Iterating over unique dates that sprays took place\n",
    "# # Sprays took place over 10 days as trucks drove around chicago\n",
    "# for date in spray.Date.unique():\n",
    "#     spray_temp = spray[spray.Date == date]\n",
    "#     spray_temp.index = range(0, len(spray_temp))\n",
    "    \n",
    "#     # I am creating a column for every unique date and initalizing it's rows to 0\n",
    "#     # I will set these values to 1 when I find a trap that was sprayed\n",
    "#     train['spray_'+str(date)] = 0\n",
    "    \n",
    "#     # Iterating over each row of our training data to determine if a trap is in the location\n",
    "#     # of a spray. I am also checking to see if the spray was in the past\n",
    "#     for r in range(0,len(train)):\n",
    "#         if train.get_value(r,'Date') > date and train.get_value(r,'Date') < date + pd.Timedelta(weeks=2) :\n",
    "            \n",
    "#             # I am casting the lat and long to ints, and multiplaying by 1000 to truncate precision\n",
    "#             # In other words, I'm taking pin points and making them into squares\n",
    "#             cur_lat = int(train.get_value(r, 'Latitude') * 100)\n",
    "#             cur_long = int(train.get_value(r, 'Longitude') * 100)\n",
    "#             for i in range(0, len(spray_temp)):\n",
    "                \n",
    "#                 spray_lat = int(spray_temp.get_value(i,'Latitude')*100)\n",
    "#                 spray_long = int(spray_temp.get_value(i,'Longitude')*100)\n",
    "                \n",
    "#                 # I am now checking if something is in the square +/- some threshold\n",
    "#                 if (cur_lat < spray_lat + 10 and cur_lat > spray_lat - 10) and \\\n",
    "#                 (cur_long < spray_long + 10 and cur_long > spray_long - 10):\n",
    "#                     train.set_value(r,'spray_'+str(date), 1)\n",
    "#                     break"
   ]
  },
  {
   "cell_type": "code",
   "execution_count": 2,
   "metadata": {},
   "outputs": [],
   "source": [
    "# This function allows you to create columns for the data_df input that will have a value of 1 or zero\n",
    "# If a trap has been sprayed with in the time period specified\n",
    "\n",
    "def has_been_sprayed(data_df, spray_df, time_period=2):\n",
    "    # Iterating over unique dates that sprays took place\n",
    "    # Sprays took place over 10 days as trucks drove around chicago\n",
    "    for date in spray_df.Date.unique():\n",
    "        # I only want data for this unique date\n",
    "        spray_temp = spray_df[spray_df.Date == date]\n",
    "        # Resetting index to make iterating easier\n",
    "        spray_temp.index = range(0, len(spray_temp))\n",
    "        \n",
    "        # I am creating a column for every unique date and initalizing it's rows to 0\n",
    "        # I will set these values to 1 when I find a trap that was sprayed\n",
    "        col_name = 'spray_'+str(date)+\"_\"+str(time_period)\n",
    "        data_df[col_name] = 0\n",
    "\n",
    "        # Iterating over each row of our training data to determine if a trap is in the location\n",
    "        # of a spray. I am also checking to see if the spray was in the past\n",
    "        for r in range(0,len(data_df)):\n",
    "            if data_df.get_value(r,'Date') > date and data_df.get_value(r,'Date') < date + pd.Timedelta(weeks=2) :\n",
    "\n",
    "                # I am casting the lat and long to ints, and multiplaying by 100 to truncate precision\n",
    "                # In other words, I'm taking pin points and making them into squares\n",
    "                cur_lat = int(data_df.get_value(r, 'Latitude') * 100)\n",
    "                cur_long = int(data_df.get_value(r, 'Longitude') * 100)\n",
    "                \n",
    "                # Iterating over each value in my spray data\n",
    "                for i in range(0, len(spray_temp)):\n",
    "\n",
    "                    spray_lat = int(spray_temp.get_value(i,'Latitude')*100)\n",
    "                    spray_long = int(spray_temp.get_value(i,'Longitude')*100)\n",
    "\n",
    "                    # I am now checking if something is in the square +/- some threshold\n",
    "                    if (cur_lat < spray_lat + 10 and cur_lat > spray_lat - 10) and \\\n",
    "                    (cur_long < spray_long + 10 and cur_long > spray_long - 10):\n",
    "                        data_df.set_value(r,col_name, 1)\n",
    "                        break"
   ]
  },
  {
   "cell_type": "code",
   "execution_count": 3,
   "metadata": {},
   "outputs": [],
   "source": [
    "has_been_sprayed(train,spray)"
   ]
  },
  {
   "cell_type": "code",
   "execution_count": 4,
   "metadata": {},
   "outputs": [
    {
     "data": {
      "text/plain": [
       "Block                                    374936.000000\n",
       "Latitude                                 439583.009378\n",
       "Longitude                               -921375.233272\n",
       "AddressAccuracy                           82152.000000\n",
       "NumMosquitos                             135039.000000\n",
       "WnvPresent                                  551.000000\n",
       "spray_2011-08-29T00:00:00.000000000_2         0.000000\n",
       "spray_2011-09-07T00:00:00.000000000_2        91.000000\n",
       "spray_2013-07-17T00:00:00.000000000_2       276.000000\n",
       "spray_2013-07-25T00:00:00.000000000_2        81.000000\n",
       "spray_2013-08-08T00:00:00.000000000_2        78.000000\n",
       "spray_2013-08-15T00:00:00.000000000_2       100.000000\n",
       "spray_2013-08-16T00:00:00.000000000_2       145.000000\n",
       "spray_2013-08-22T00:00:00.000000000_2        94.000000\n",
       "spray_2013-08-29T00:00:00.000000000_2        99.000000\n",
       "spray_2013-09-05T00:00:00.000000000_2       106.000000\n",
       "dtype: float64"
      ]
     },
     "execution_count": 4,
     "metadata": {},
     "output_type": "execute_result"
    }
   ],
   "source": [
    "train.sum()"
   ]
  },
  {
   "cell_type": "code",
   "execution_count": null,
   "metadata": {
    "collapsed": true
   },
   "outputs": [],
   "source": []
  }
 ],
 "metadata": {
  "kernelspec": {
   "display_name": "Python 2",
   "language": "python",
   "name": "python2"
  },
  "language_info": {
   "codemirror_mode": {
    "name": "ipython",
    "version": 2
   },
   "file_extension": ".py",
   "mimetype": "text/x-python",
   "name": "python",
   "nbconvert_exporter": "python",
   "pygments_lexer": "ipython2",
   "version": "2.7.13"
  }
 },
 "nbformat": 4,
 "nbformat_minor": 2
}
