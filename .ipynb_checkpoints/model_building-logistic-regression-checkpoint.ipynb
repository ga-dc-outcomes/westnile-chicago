{
 "cells": [
  {
   "cell_type": "code",
   "execution_count": 58,
   "metadata": {
    "collapsed": true
   },
   "outputs": [],
   "source": [
    "import pandas as pd\n",
    "import numpy as np\n",
    "from sklearn import ensemble, preprocessing\n",
    "import datetime as dt\n",
    "from sklearn import model_selection\n",
    "from sklearn.linear_model import LogisticRegressionCV\n",
    "from matplotlib import pyplot as plt\n",
    "import seaborn as sns\n",
    "from sklearn.feature_selection import chi2\n",
    "%matplotlib inline"
   ]
  },
  {
   "cell_type": "code",
   "execution_count": 17,
   "metadata": {
    "collapsed": true
   },
   "outputs": [],
   "source": [
    "\n",
    "# Load dataset \n",
    "train = pd.read_csv('asset/train.csv')\n",
    "test = pd.read_csv('asset/test.csv')\n",
    "sample = pd.read_csv('asset/sampleSubmission.csv')\n",
    "weather = pd.read_csv('asset/weather.csv')\n",
    "spray = pd.read_csv('asset/spray.csv')\n",
    "\n",
    "# Get labels\n",
    "labels = train.WnvPresent.values\n",
    "\n",
    "# Creating dummy variables for the weather data\n",
    "weather.CodeSum = weather.CodeSum.apply(str.split)\n",
    "for (i,list_) in enumerate(weather.CodeSum):\n",
    "    for item in list_:\n",
    "        if item not in weather.columns:\n",
    "            weather[item] = 0\n",
    "        weather.set_value(col=item,index=i,value=1)\n",
    "\n",
    "\n",
    "# Not using codesum anymore\n",
    "weather = weather.drop('CodeSum', axis=1)\n",
    "# Split station 1 and 2 and join horizontally\n",
    "weather_stn1 = weather[weather['Station']==1]\n",
    "weather_stn2 = weather[weather['Station']==2]\n",
    "weather_stn1 = weather_stn1.drop('Station', axis=1)\n",
    "weather_stn2 = weather_stn2.drop('Station', axis=1)\n",
    "weather = weather_stn1.merge(weather_stn2, on='Date')\n",
    "\n",
    "train.Date = pd.to_datetime(train.Date)\n",
    "test.Date = pd.to_datetime(test.Date)\n",
    "weather.Date = pd.to_datetime(weather.Date)\n",
    "spray.Date = pd.to_datetime(spray.Date)"
   ]
  },
  {
   "cell_type": "code",
   "execution_count": 18,
   "metadata": {
    "collapsed": true
   },
   "outputs": [],
   "source": [
    "# for c in weather.columns:\n",
    "#     print(c)\n",
    "#     print (weather[c].value_counts())"
   ]
  },
  {
   "cell_type": "code",
   "execution_count": 19,
   "metadata": {
    "collapsed": true
   },
   "outputs": [],
   "source": [
    "# replace some missing values and T with -1\n",
    "weather = weather.replace('M', -1)\n",
    "weather = weather.replace('-', -1)\n",
    "weather = weather.replace('T', -1)\n",
    "weather = weather.replace(' T', -1)\n",
    "weather = weather.replace('  T', -1)"
   ]
  },
  {
   "cell_type": "code",
   "execution_count": 20,
   "metadata": {
    "collapsed": true
   },
   "outputs": [],
   "source": [
    "# Functions to extract month and day from dataset\n",
    "train['year'] = train['Date'].dt.year\n",
    "train['month'] = train['Date'].dt.month\n",
    "train['day'] = train['Date'].dt.day\n",
    "test['year'] = test['Date'].dt.year\n",
    "test['month'] = test['Date'].dt.month\n",
    "test['day'] = test['Date'].dt.day\n",
    "\n",
    "# Add integer latitude/longitude columns\n",
    "train['Lat_int'] = train.Latitude.apply(int)\n",
    "train['Long_int'] = train.Longitude.apply(int)\n",
    "test['Lat_int'] = test.Latitude.apply(int)\n",
    "test['Long_int'] = test.Longitude.apply(int)"
   ]
  },
  {
   "cell_type": "code",
   "execution_count": 21,
   "metadata": {
    "collapsed": true
   },
   "outputs": [],
   "source": [
    "# drop address columns\n",
    "train = train.drop(['Address', 'AddressNumberAndStreet','WnvPresent', 'NumMosquitos'], axis = 1)\n",
    "test = test.drop(['Id', 'Address', 'AddressNumberAndStreet'], axis = 1)"
   ]
  },
  {
   "cell_type": "code",
   "execution_count": 22,
   "metadata": {
    "collapsed": true
   },
   "outputs": [],
   "source": [
    "# Merge with weather data\n",
    "train = train.merge(weather, on='Date')\n",
    "test = test.merge(weather, on='Date')\n",
    "\n",
    "# train = train.merge(spray, on='Date')\n",
    "# test = test.merge(spray, on='Date')"
   ]
  },
  {
   "cell_type": "code",
   "execution_count": 23,
   "metadata": {
    "collapsed": true
   },
   "outputs": [],
   "source": [
    "# This function allows you to create columns for the data_df input that will have a value of 1 or zero\n",
    "# If a trap has been sprayed with in the time period specified\n",
    "\n",
    "def create_sprayed_cols(data_df, spray_df, time_period=2):\n",
    "    # Iterating over unique dates that sprays took place\n",
    "    # Sprays took place over 10 days as trucks drove around chicago\n",
    "    for date in set(spray_df.Date):\n",
    "        # I only want data for this unique date\n",
    "        spray_temp = spray_df[spray_df.Date == date]\n",
    "        # Resetting index to make iterating easier\n",
    "        spray_temp.index = range(0, len(spray_temp))\n",
    "        \n",
    "        # I am creating a column for every unique date and initalizing it's rows to 0\n",
    "        # I will set these values to 1 when I find a trap that was sprayed\n",
    "        col_name = 'spray_'+date.strftime('%Y-%m-%d')+\"_\"+str(time_period)\n",
    "        data_df[col_name] = 0\n",
    "\n",
    "        # Iterating over each row of our training data to determine if a trap is in the location\n",
    "        # of a spray. I am also checking to see if the spray was in the past\n",
    "        for r in range(0,len(data_df)):\n",
    "            if data_df.get_value(r,'Date') > date and data_df.get_value(r,'Date') < date + pd.Timedelta(weeks=2) :\n",
    "\n",
    "                # I am casting the lat and long to ints, and multiplaying by 100 to truncate precision\n",
    "                # In other words, I'm taking pin points and making them into squares\n",
    "                cur_lat = int(data_df.get_value(r, 'Latitude') * 100)\n",
    "                cur_long = int(data_df.get_value(r, 'Longitude') * 100)\n",
    "                \n",
    "                # Iterating over each value in my spray data\n",
    "                for i in range(0, len(spray_temp)):\n",
    "\n",
    "                    spray_lat = int(spray_temp.get_value(i,'Latitude')*100)\n",
    "                    spray_long = int(spray_temp.get_value(i,'Longitude')*100)\n",
    "\n",
    "                    # I am now checking if something is in the square +/- some threshold\n",
    "                    if (cur_lat < spray_lat + 10 and cur_lat > spray_lat - 10) and \\\n",
    "                    (cur_long < spray_long + 10 and cur_long > spray_long - 10):\n",
    "                        data_df.set_value(r,col_name, 1)\n",
    "                        break"
   ]
  },
  {
   "cell_type": "code",
   "execution_count": 24,
   "metadata": {
    "collapsed": true
   },
   "outputs": [],
   "source": [
    "create_sprayed_cols(train, spray, time_period=10)\n",
    "create_sprayed_cols(test,spray, time_period=10)"
   ]
  },
  {
   "cell_type": "code",
   "execution_count": 25,
   "metadata": {
    "collapsed": true
   },
   "outputs": [],
   "source": [
    "# Convert categorical data to numbers\n",
    "lbl = preprocessing.LabelEncoder()\n",
    "lbl.fit(list(train['Species'].values) + list(test['Species'].values))\n",
    "train['Species'] = lbl.transform(train['Species'].values)\n",
    "test['Species'] = lbl.transform(test['Species'].values)\n",
    "\n",
    "lbl.fit(list(train['Street'].values) + list(test['Street'].values))\n",
    "train['Street'] = lbl.transform(train['Street'].values)\n",
    "test['Street'] = lbl.transform(test['Street'].values)\n",
    "\n",
    "lbl.fit(list(train['Trap'].values) + list(test['Trap'].values))\n",
    "train['Trap'] = lbl.transform(train['Trap'].values)\n",
    "test['Trap'] = lbl.transform(test['Trap'].values)"
   ]
  },
  {
   "cell_type": "code",
   "execution_count": 26,
   "metadata": {
    "collapsed": true
   },
   "outputs": [],
   "source": [
    "# drop columns with -1s\n",
    "train = train.loc[:,(train != -1).any(axis=0)]\n",
    "test = test.loc[:,(test != -1).any(axis=0)]"
   ]
  },
  {
   "cell_type": "code",
   "execution_count": 27,
   "metadata": {
    "collapsed": true
   },
   "outputs": [],
   "source": [
    "train = train.drop('Date', axis=1)\n",
    "test = test.drop('Date', axis=1)"
   ]
  },
  {
   "cell_type": "code",
   "execution_count": 28,
   "metadata": {},
   "outputs": [
    {
     "name": "stderr",
     "output_type": "stream",
     "text": [
      "/home/roland/anaconda3/envs/ga-immersive/lib/python2.7/site-packages/ipykernel_launcher.py:1: FutureWarning: convert_objects is deprecated.  Use the data-type specific converters pd.to_datetime, pd.to_timedelta and pd.to_numeric.\n",
      "  \"\"\"Entry point for launching an IPython kernel.\n",
      "/home/roland/anaconda3/envs/ga-immersive/lib/python2.7/site-packages/ipykernel_launcher.py:2: FutureWarning: convert_objects is deprecated.  Use the data-type specific converters pd.to_datetime, pd.to_timedelta and pd.to_numeric.\n",
      "  \n"
     ]
    }
   ],
   "source": [
    "_ = train.convert_objects(convert_numeric=True)\n",
    "_ = test.convert_objects(convert_numeric=True)"
   ]
  },
  {
   "cell_type": "markdown",
   "metadata": {},
   "source": [
    "# Grid searching below"
   ]
  },
  {
   "cell_type": "code",
   "execution_count": 48,
   "metadata": {
    "collapsed": true
   },
   "outputs": [],
   "source": [
    "param_grid = {'Cs': [[0.001, 0.01, 0.1, 1, 10, 100, 1000]]}\n",
    "grid = model_selection.GridSearchCV(LogisticRegressionCV(penalty='l2'), param_grid)"
   ]
  },
  {
   "cell_type": "code",
   "execution_count": 49,
   "metadata": {},
   "outputs": [
    {
     "data": {
      "text/plain": [
       "GridSearchCV(cv=None, error_score='raise',\n",
       "       estimator=LogisticRegressionCV(Cs=10, class_weight=None, cv=None, dual=False,\n",
       "           fit_intercept=True, intercept_scaling=1.0, max_iter=100,\n",
       "           multi_class='ovr', n_jobs=1, penalty='l2', random_state=None,\n",
       "           refit=True, scoring=None, solver='lbfgs', tol=0.0001, verbose=0),\n",
       "       fit_params={}, iid=True, n_jobs=1,\n",
       "       param_grid={'Cs': [[0.001, 0.01, 0.1, 1, 10, 100, 1000]]},\n",
       "       pre_dispatch='2*n_jobs', refit=True, return_train_score=True,\n",
       "       scoring=None, verbose=0)"
      ]
     },
     "execution_count": 49,
     "metadata": {},
     "output_type": "execute_result"
    }
   ],
   "source": [
    "# # Random Forest Classifier \n",
    "#grid = model_selection.GridSearchCV(estimator=clf, scoring='roc_auc', param_grid=dict(n_estimators=n_estimators,\n",
    "#                                                     max_depth=max_depth, max_features=max_features, min_samples_split=min_samples_split))\n",
    "\n",
    "grid.fit(train,labels)\n"
   ]
  },
  {
   "cell_type": "markdown",
   "metadata": {},
   "source": [
    "### Evaluating results"
   ]
  },
  {
   "cell_type": "code",
   "execution_count": 50,
   "metadata": {
    "collapsed": true
   },
   "outputs": [],
   "source": [
    "grid.best_estimator_.fit(train, labels)\n",
    "\n",
    "# create predictions and submission file\n",
    "predictions = grid.best_estimator_.predict_proba(test)[:,1]\n",
    "sample['WnvPresent'] = predictions\n",
    "sample.to_csv('beat_the_benchmark_1.csv', index=False)"
   ]
  },
  {
   "cell_type": "code",
   "execution_count": 56,
   "metadata": {},
   "outputs": [
    {
     "data": {
      "text/plain": [
       "0.94755377879307068"
      ]
     },
     "execution_count": 56,
     "metadata": {},
     "output_type": "execute_result"
    }
   ],
   "source": [
    "grid.best_score_"
   ]
  },
  {
   "cell_type": "code",
   "execution_count": 52,
   "metadata": {},
   "outputs": [
    {
     "data": {
      "text/plain": [
       "0.052446221206929371"
      ]
     },
     "execution_count": 52,
     "metadata": {},
     "output_type": "execute_result"
    }
   ],
   "source": [
    "sum(labels)/float(len(labels))"
   ]
  },
  {
   "cell_type": "code",
   "execution_count": 53,
   "metadata": {},
   "outputs": [
    {
     "data": {
      "text/plain": [
       "0.63703110716832378"
      ]
     },
     "execution_count": 53,
     "metadata": {},
     "output_type": "execute_result"
    }
   ],
   "source": [
    "np.mean(model_selection.cross_val_score(grid.best_estimator_, X=train, y=labels, scoring='roc_auc', n_jobs=7))"
   ]
  },
  {
   "cell_type": "code",
   "execution_count": 54,
   "metadata": {
    "collapsed": true
   },
   "outputs": [],
   "source": [
    "model = grid.best_estimator_\n"
   ]
  },
  {
   "cell_type": "markdown",
   "metadata": {},
   "source": [
    "#### Looking at feature importances"
   ]
  },
  {
   "cell_type": "code",
   "execution_count": 65,
   "metadata": {},
   "outputs": [
    {
     "data": {
      "text/plain": [
       "LogisticRegressionCV(Cs=[0.001, 0.01, 0.1, 1, 10, 100, 1000],\n",
       "           class_weight=None, cv=None, dual=False, fit_intercept=True,\n",
       "           intercept_scaling=1.0, max_iter=100, multi_class='ovr',\n",
       "           n_jobs=1, penalty='l2', random_state=None, refit=True,\n",
       "           scoring=None, solver='lbfgs', tol=0.0001, verbose=0)"
      ]
     },
     "execution_count": 65,
     "metadata": {},
     "output_type": "execute_result"
    }
   ],
   "source": [
    "model.fit(train, labels)\n",
    "# scores, pvalues = chi2(train, labels)\n",
    "# features = pd.DataFrame(data=zip(np.exp((model.coef_[0])),pvalues), index=train.columns, columns=['odds_ratio','p_value'])"
   ]
  },
  {
   "cell_type": "code",
   "execution_count": 68,
   "metadata": {},
   "outputs": [
    {
     "data": {
      "text/plain": [
       "[('Species', 0.92269670221409106),\n",
       " ('Block', 1.0026856009057483),\n",
       " ('Street', 1.0007953148598043),\n",
       " ('Trap', 1.0017785300695485),\n",
       " ('Latitude', 1.0020476981428281),\n",
       " ('Longitude', 1.0015914342659371),\n",
       " ('AddressAccuracy', 1.0493293370176857),\n",
       " ('year', 0.98081006525984393),\n",
       " ('month', 1.0137340395187042),\n",
       " ('day', 0.99528162606182813),\n",
       " ('Lat_int', 0.99765402279766591),\n",
       " ('Long_int', 1.0111537650027262),\n",
       " ('Tmax_x', 1.0269948382207716),\n",
       " ('Tmin_x', 1.0204629454065386),\n",
       " ('Tavg_x', 1.03598526745623),\n",
       " ('Depart_x', 0.85439404925950913),\n",
       " ('DewPoint_x', 1.0428508813629045),\n",
       " ('WetBulb_x', 1.0484486443339385),\n",
       " ('Heat_x', 0.96102979844793668),\n",
       " ('Cool_x', 1.0038977787759948),\n",
       " ('Sunrise_x', 1.0308997661494059),\n",
       " ('Sunset_x', 1.0056944337595102),\n",
       " ('Depth_x', 1.0),\n",
       " ('SnowFall_x', 1.0016490269063452),\n",
       " ('PrecipTotal_x', 0.98907840465797514),\n",
       " ('StnPressure_x', 1.0026933460743592),\n",
       " ('SeaLevel_x', 0.99706827261126052),\n",
       " ('ResultSpeed_x', 0.97414676239685827),\n",
       " ('ResultDir_x', 1.0292004742965277),\n",
       " ('AvgSpeed_x', 0.98863368815464681),\n",
       " ('BR_x', 1.006852187504452),\n",
       " ('HZ_x', 0.99603800516873142),\n",
       " ('RA_x', 0.99874390709587602),\n",
       " ('TSRA_x', 1.0117192665475072),\n",
       " ('VCTS_x', 0.99701420428226706),\n",
       " ('FU_x', 1.0),\n",
       " ('TS_x', 1.0131550573977268),\n",
       " ('DZ_x', 0.99599625611272691),\n",
       " ('BCFG_x', 1.0),\n",
       " ('FG+_x', 1.0),\n",
       " ('MIFG_x', 1.0),\n",
       " ('FG_x', 1.0012327531216261),\n",
       " ('SQ_x', 1.0),\n",
       " ('SN_x', 1.0),\n",
       " ('VCFG_x', 1.0),\n",
       " ('GR_x', 1.0),\n",
       " ('Tmax_y', 0.99388156457503141),\n",
       " ('Tmin_y', 1.0457564266127533),\n",
       " ('Tavg_y', 1.0184887348135139),\n",
       " ('DewPoint_y', 0.95863474779397617),\n",
       " ('WetBulb_y', 0.99417394481379318),\n",
       " ('Heat_y', 0.97622965093671321),\n",
       " ('Cool_y', 1.0025528686612808),\n",
       " ('PrecipTotal_y', 1.0082697830370047),\n",
       " ('StnPressure_y', 0.99757496904436072),\n",
       " ('SeaLevel_y', 0.99752890408191464),\n",
       " ('ResultSpeed_y', 0.99666628702635618),\n",
       " ('ResultDir_y', 0.95989978362834771),\n",
       " ('AvgSpeed_y', 1.0020383695165305),\n",
       " ('BR_y', 1.0055504179513775),\n",
       " ('HZ_y', 1.0012873692324828),\n",
       " ('RA_y', 1.0000490208654924),\n",
       " ('TSRA_y', 1.0038351087107238),\n",
       " ('VCTS_y', 0.99629522154180894),\n",
       " ('FU_y', 1.0),\n",
       " ('TS_y', 1.0108210911194004),\n",
       " ('DZ_y', 0.99587413774972366),\n",
       " ('BCFG_y', 1.0),\n",
       " ('FG+_y', 1.0),\n",
       " ('MIFG_y', 1.0),\n",
       " ('FG_y', 1.0115210702361532),\n",
       " ('SQ_y', 1.0),\n",
       " ('SN_y', 1.0),\n",
       " ('VCFG_y', 1.0),\n",
       " ('GR_y', 1.0),\n",
       " ('spray_2013-07-17_10', 1.0034297639324674),\n",
       " ('spray_2011-08-29_10', 1.0),\n",
       " ('spray_2013-08-16_10', 1.0087063548603716),\n",
       " ('spray_2013-09-05_10', 1.0117763991382911),\n",
       " ('spray_2013-08-15_10', 1.0052293887961634),\n",
       " ('spray_2013-07-25_10', 1.003149334469198),\n",
       " ('spray_2013-08-29_10', 1.0043716148158996),\n",
       " ('spray_2013-08-08_10', 1.0048865326033432),\n",
       " ('spray_2011-09-07_10', 1.0006885019451239),\n",
       " ('spray_2013-08-22_10', 1.0034485481369892)]"
      ]
     },
     "execution_count": 68,
     "metadata": {},
     "output_type": "execute_result"
    }
   ],
   "source": [
    "zip(train.columns, np.exp(model.coef_[0]))"
   ]
  },
  {
   "cell_type": "code",
   "execution_count": 64,
   "metadata": {},
   "outputs": [
    {
     "data": {
      "text/plain": [
       "Species                                                            22129\n",
       "Block                                                             374936\n",
       "Street                                                            730648\n",
       "Trap                                                              816595\n",
       "Latitude                                                          439583\n",
       "Longitude                                                        -921375\n",
       "AddressAccuracy                                                    82152\n",
       "year                                                            21112608\n",
       "month                                                              80818\n",
       "day                                                               161177\n",
       "Lat_int                                                           431155\n",
       "Long_int                                                         -914022\n",
       "Tmax_x                                                            859895\n",
       "Tmin_x                                                            658895\n",
       "Tavg_x                 7474747474747474747474747474747474747474747474...\n",
       "Depart_x               1010101010101010101010101010101010101010101010...\n",
       "DewPoint_x                                                        627834\n",
       "Heat_x                 0000000000000000000000000999999999999999999999...\n",
       "Cool_x                  9 9 9 9 9 9 9 9 9 9 9 9 9 9 9 9 9 9 9 9 9 9 9...\n",
       "Sunrise_x              0421042104210421042104210421042104210421042104...\n",
       "Sunset_x               1917191719171917191719171917191719171917191719...\n",
       "Depth_x                0000000000000000000000000000000000000000000000...\n",
       "SeaLevel_x             30.1130.1130.1130.1130.1130.1130.1130.1130.113...\n",
       "ResultSpeed_x                                                    62790.4\n",
       "ResultDir_x                                                       184066\n",
       "AvgSpeed_x             6.56.56.56.56.56.56.56.56.56.56.56.56.56.56.56...\n",
       "BR_x                                                                2924\n",
       "HZ_x                                                                1800\n",
       "RA_x                                                                3198\n",
       "TSRA_x                                                              1388\n",
       "                                             ...                        \n",
       "SeaLevel_y             30.0930.0930.0930.0930.0930.0930.0930.0930.093...\n",
       "ResultSpeed_y                                                    62046.9\n",
       "ResultDir_y                                                       186573\n",
       "AvgSpeed_y             7.47.47.47.47.47.47.47.47.47.47.47.47.47.47.47...\n",
       "BR_y                                                                2902\n",
       "HZ_y                                                                1025\n",
       "RA_y                                                                2709\n",
       "TSRA_y                                                              1808\n",
       "VCTS_y                                                               434\n",
       "FU_y                                                                   0\n",
       "TS_y                                                                1049\n",
       "DZ_y                                                                 218\n",
       "BCFG_y                                                                 0\n",
       "FG+_y                                                                  0\n",
       "MIFG_y                                                                 0\n",
       "FG_y                                                                 143\n",
       "SQ_y                                                                   0\n",
       "SN_y                                                                   0\n",
       "VCFG_y                                                                 0\n",
       "GR_y                                                                   0\n",
       "spray_2013-07-17_10                                                  276\n",
       "spray_2011-08-29_10                                                    0\n",
       "spray_2013-08-16_10                                                  145\n",
       "spray_2013-09-05_10                                                  106\n",
       "spray_2013-08-15_10                                                  100\n",
       "spray_2013-07-25_10                                                   81\n",
       "spray_2013-08-29_10                                                   99\n",
       "spray_2013-08-08_10                                                   78\n",
       "spray_2011-09-07_10                                                   91\n",
       "spray_2013-08-22_10                                                   94\n",
       "Length: 80, dtype: object"
      ]
     },
     "execution_count": 64,
     "metadata": {},
     "output_type": "execute_result"
    }
   ],
   "source": [
    "train.sum()"
   ]
  },
  {
   "cell_type": "code",
   "execution_count": null,
   "metadata": {
    "collapsed": true
   },
   "outputs": [],
   "source": []
  }
 ],
 "metadata": {
  "kernelspec": {
   "display_name": "Python 2",
   "language": "python",
   "name": "python2"
  },
  "language_info": {
   "codemirror_mode": {
    "name": "ipython",
    "version": 2
   },
   "file_extension": ".py",
   "mimetype": "text/x-python",
   "name": "python",
   "nbconvert_exporter": "python",
   "pygments_lexer": "ipython2",
   "version": "2.7.13"
  }
 },
 "nbformat": 4,
 "nbformat_minor": 2
}
