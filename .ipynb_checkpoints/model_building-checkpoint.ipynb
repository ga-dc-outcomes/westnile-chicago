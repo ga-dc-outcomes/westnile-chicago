{
 "cells": [
  {
   "cell_type": "code",
   "execution_count": 38,
   "metadata": {
    "collapsed": true
   },
   "outputs": [],
   "source": [
    "import pandas as pd\n",
    "import numpy as np\n",
    "from sklearn import ensemble, preprocessing\n",
    "import datetime as dt\n",
    "from sklearn import model_selection\n",
    "from matplotlib import pyplot as plt\n",
    "import seaborn as sns\n",
    "%matplotlib inline"
   ]
  },
  {
   "cell_type": "code",
   "execution_count": 39,
   "metadata": {},
   "outputs": [],
   "source": [
    "\n",
    "# Load dataset \n",
    "train = pd.read_csv('asset/train.csv')\n",
    "test = pd.read_csv('asset/test.csv')\n",
    "sample = pd.read_csv('asset/sampleSubmission.csv')\n",
    "weather = pd.read_csv('asset/weather.csv')\n",
    "spray = pd.read_csv('asset/spray.csv')\n",
    "\n",
    "# Get labels\n",
    "labels = train.WnvPresent.values\n",
    "\n",
    "# Creating dummy variables for the weather data\n",
    "weather.CodeSum = weather.CodeSum.apply(str.split)\n",
    "for (i,list_) in enumerate(weather.CodeSum):\n",
    "    for item in list_:\n",
    "        if item not in weather.columns:\n",
    "            weather[item] = 0\n",
    "        weather.set_value(col=item,index=i,value=1)\n",
    "\n",
    "\n",
    "# Not using codesum anymore\n",
    "weather = weather.drop('CodeSum', axis=1)\n",
    "# Split station 1 and 2 and join horizontally\n",
    "weather_stn1 = weather[weather['Station']==1]\n",
    "weather_stn2 = weather[weather['Station']==2]\n",
    "weather_stn1 = weather_stn1.drop('Station', axis=1)\n",
    "weather_stn2 = weather_stn2.drop('Station', axis=1)\n",
    "weather = weather_stn1.merge(weather_stn2, on='Date')\n",
    "\n",
    "train.Date = pd.to_datetime(train.Date)\n",
    "test.Date = pd.to_datetime(test.Date)\n",
    "weather.Date = pd.to_datetime(weather.Date)\n",
    "spray.Date = pd.to_datetime(spray.Date)"
   ]
  },
  {
   "cell_type": "code",
   "execution_count": 40,
   "metadata": {},
   "outputs": [],
   "source": [
    "# for c in weather.columns:\n",
    "#     print(c)\n",
    "#     print (weather[c].value_counts())"
   ]
  },
  {
   "cell_type": "code",
   "execution_count": 41,
   "metadata": {
    "collapsed": true
   },
   "outputs": [],
   "source": [
    "# replace some missing values and T with -1\n",
    "weather = weather.replace('M', -1)\n",
    "weather = weather.replace('-', -1)\n",
    "weather = weather.replace('T', -1)\n",
    "weather = weather.replace(' T', -1)\n",
    "weather = weather.replace('  T', -1)"
   ]
  },
  {
   "cell_type": "code",
   "execution_count": 42,
   "metadata": {},
   "outputs": [],
   "source": [
    "# Functions to extract month and day from dataset\n",
    "train['year'] = train['Date'].dt.year\n",
    "train['month'] = train['Date'].dt.month\n",
    "train['day'] = train['Date'].dt.day\n",
    "test['year'] = test['Date'].dt.year\n",
    "test['month'] = test['Date'].dt.month\n",
    "test['day'] = test['Date'].dt.day\n",
    "\n",
    "# Add integer latitude/longitude columns\n",
    "train['Lat_int'] = train.Latitude.apply(int)\n",
    "train['Long_int'] = train.Longitude.apply(int)\n",
    "test['Lat_int'] = test.Latitude.apply(int)\n",
    "test['Long_int'] = test.Longitude.apply(int)"
   ]
  },
  {
   "cell_type": "code",
   "execution_count": 43,
   "metadata": {},
   "outputs": [],
   "source": [
    "# drop address columns\n",
    "train = train.drop(['Address', 'AddressNumberAndStreet','WnvPresent', 'NumMosquitos'], axis = 1)\n",
    "test = test.drop(['Id', 'Address', 'AddressNumberAndStreet'], axis = 1)"
   ]
  },
  {
   "cell_type": "code",
   "execution_count": 44,
   "metadata": {},
   "outputs": [],
   "source": [
    "# Merge with weather data\n",
    "train = train.merge(weather, on='Date')\n",
    "test = test.merge(weather, on='Date')\n",
    "\n",
    "# train = train.merge(spray, on='Date')\n",
    "# test = test.merge(spray, on='Date')"
   ]
  },
  {
   "cell_type": "code",
   "execution_count": 45,
   "metadata": {
    "collapsed": true
   },
   "outputs": [],
   "source": [
    "# This function allows you to create columns for the data_df input that will have a value of 1 or zero\n",
    "# If a trap has been sprayed with in the time period specified\n",
    "\n",
    "def create_sprayed_cols(data_df, spray_df, time_period=2):\n",
    "    # Iterating over unique dates that sprays took place\n",
    "    # Sprays took place over 10 days as trucks drove around chicago\n",
    "    for date in spray_df.Date.unique():\n",
    "        # I only want data for this unique date\n",
    "        spray_temp = spray_df[spray_df.Date == date]\n",
    "        # Resetting index to make iterating easier\n",
    "        spray_temp.index = range(0, len(spray_temp))\n",
    "        \n",
    "        # I am creating a column for every unique date and initalizing it's rows to 0\n",
    "        # I will set these values to 1 when I find a trap that was sprayed\n",
    "        col_name = 'spray_'+str(date)+\"_\"+str(time_period)\n",
    "        data_df[col_name] = 0\n",
    "\n",
    "        # Iterating over each row of our training data to determine if a trap is in the location\n",
    "        # of a spray. I am also checking to see if the spray was in the past\n",
    "        for r in range(0,len(data_df)):\n",
    "            if data_df.get_value(r,'Date') > date and data_df.get_value(r,'Date') < date + pd.Timedelta(weeks=2) :\n",
    "\n",
    "                # I am casting the lat and long to ints, and multiplaying by 100 to truncate precision\n",
    "                # In other words, I'm taking pin points and making them into squares\n",
    "                cur_lat = int(data_df.get_value(r, 'Latitude') * 100)\n",
    "                cur_long = int(data_df.get_value(r, 'Longitude') * 100)\n",
    "                \n",
    "                # Iterating over each value in my spray data\n",
    "                for i in range(0, len(spray_temp)):\n",
    "\n",
    "                    spray_lat = int(spray_temp.get_value(i,'Latitude')*100)\n",
    "                    spray_long = int(spray_temp.get_value(i,'Longitude')*100)\n",
    "\n",
    "                    # I am now checking if something is in the square +/- some threshold\n",
    "                    if (cur_lat < spray_lat + 10 and cur_lat > spray_lat - 10) and \\\n",
    "                    (cur_long < spray_long + 10 and cur_long > spray_long - 10):\n",
    "                        data_df.set_value(r,col_name, 1)\n",
    "                        break"
   ]
  },
  {
   "cell_type": "code",
   "execution_count": 46,
   "metadata": {},
   "outputs": [],
   "source": [
    "create_sprayed_cols(train, spray, time_period=10)\n",
    "create_sprayed_cols(test,spray, time_period=10)"
   ]
  },
  {
   "cell_type": "code",
   "execution_count": 47,
   "metadata": {},
   "outputs": [],
   "source": [
    "# Convert categorical data to numbers\n",
    "lbl = preprocessing.LabelEncoder()\n",
    "lbl.fit(list(train['Species'].values) + list(test['Species'].values))\n",
    "train['Species'] = lbl.transform(train['Species'].values)\n",
    "test['Species'] = lbl.transform(test['Species'].values)\n",
    "\n",
    "lbl.fit(list(train['Street'].values) + list(test['Street'].values))\n",
    "train['Street'] = lbl.transform(train['Street'].values)\n",
    "test['Street'] = lbl.transform(test['Street'].values)\n",
    "\n",
    "lbl.fit(list(train['Trap'].values) + list(test['Trap'].values))\n",
    "train['Trap'] = lbl.transform(train['Trap'].values)\n",
    "test['Trap'] = lbl.transform(test['Trap'].values)"
   ]
  },
  {
   "cell_type": "code",
   "execution_count": 48,
   "metadata": {},
   "outputs": [],
   "source": [
    "# drop columns with -1s\n",
    "train = train.loc[:,(train != -1).any(axis=0)]\n",
    "test = test.loc[:,(test != -1).any(axis=0)]"
   ]
  },
  {
   "cell_type": "code",
   "execution_count": 49,
   "metadata": {},
   "outputs": [],
   "source": [
    "train = train.drop('Date', axis=1)\n",
    "test = test.drop('Date', axis=1)"
   ]
  },
  {
   "cell_type": "code",
   "execution_count": null,
   "metadata": {
    "collapsed": true
   },
   "outputs": [],
   "source": [
    "_ = train.convert_objects(convert_numeric=True)\n",
    "_ = test.convert_objects(convert_numeric=True)"
   ]
  },
  {
   "cell_type": "markdown",
   "metadata": {},
   "source": [
    "# Grid searching below"
   ]
  },
  {
   "cell_type": "code",
   "execution_count": 51,
   "metadata": {},
   "outputs": [],
   "source": [
    "n_estimators = [5,15,50,100,300]\n",
    "criterion = ['gini', 'entropy']\n",
    "max_depth = [4, 10, 30,50]\n",
    "min_samples_split = [2,3,5,10]\n",
    "max_features = ['auto', 'log2', 3, 15,50]\n",
    "clf = ensemble.RandomForestClassifier()"
   ]
  },
  {
   "cell_type": "code",
   "execution_count": 52,
   "metadata": {},
   "outputs": [
    {
     "data": {
      "text/plain": [
       "GridSearchCV(cv=None, error_score='raise',\n",
       "       estimator=RandomForestClassifier(bootstrap=True, class_weight=None, criterion='gini',\n",
       "            max_depth=None, max_features='auto', max_leaf_nodes=None,\n",
       "            min_impurity_split=1e-07, min_samples_leaf=1,\n",
       "            min_samples_split=2, min_weight_fraction_leaf=0.0,\n",
       "            n_estimators=10, n_jobs=1, oob_score=False, random_state=None,\n",
       "            verbose=0, warm_start=False),\n",
       "       fit_params={}, iid=True, n_jobs=1,\n",
       "       param_grid={'min_samples_split': [2, 3, 5, 10], 'max_features': ['auto', 'log2', 3, 15, 50], 'criterion': ['gini', 'entropy'], 'max_depth': [4, 10, 30, 50], 'n_estimators': [5, 15, 50, 100, 300]},\n",
       "       pre_dispatch='2*n_jobs', refit=True, return_train_score=True,\n",
       "       scoring='roc_auc', verbose=0)"
      ]
     },
     "execution_count": 52,
     "metadata": {},
     "output_type": "execute_result"
    }
   ],
   "source": [
    "# Random Forest Classifier \n",
    "grid = model_selection.GridSearchCV(estimator=clf, scoring='roc_auc', param_grid=dict(n_estimators=n_estimators, criterion=criterion,\n",
    "                                                    max_depth=max_depth, max_features=max_features, min_samples_split=min_samples_split))\n",
    "\n",
    "grid.fit(train,labels)\n"
   ]
  },
  {
   "cell_type": "markdown",
   "metadata": {},
   "source": [
    "### Evaluating results"
   ]
  },
  {
   "cell_type": "code",
   "execution_count": 53,
   "metadata": {
    "collapsed": true
   },
   "outputs": [],
   "source": [
    "grid.best_estimator_.fit(train, labels)\n",
    "\n",
    "# create predictions and submission file\n",
    "predictions = grid.best_estimator_.predict_proba(test)[:,1]\n",
    "sample['WnvPresent'] = predictions\n",
    "sample.to_csv('beat_the_benchmark.csv', index=False)"
   ]
  },
  {
   "cell_type": "code",
   "execution_count": 54,
   "metadata": {},
   "outputs": [
    {
     "data": {
      "text/plain": [
       "0.70068633068264907"
      ]
     },
     "execution_count": 54,
     "metadata": {},
     "output_type": "execute_result"
    }
   ],
   "source": [
    "grid.best_score_"
   ]
  },
  {
   "cell_type": "code",
   "execution_count": 55,
   "metadata": {},
   "outputs": [
    {
     "data": {
      "text/plain": [
       "0.052446221206929371"
      ]
     },
     "execution_count": 55,
     "metadata": {},
     "output_type": "execute_result"
    }
   ],
   "source": [
    "sum(labels)/float(len(labels))"
   ]
  },
  {
   "cell_type": "code",
   "execution_count": 56,
   "metadata": {},
   "outputs": [
    {
     "data": {
      "text/plain": [
       "0.60711450311883386"
      ]
     },
     "execution_count": 56,
     "metadata": {},
     "output_type": "execute_result"
    }
   ],
   "source": [
    "np.mean(model_selection.cross_val_score(grid.best_estimator_, X=train, y=labels, scoring='roc_auc', n_jobs=7))"
   ]
  },
  {
   "cell_type": "code",
   "execution_count": 57,
   "metadata": {
    "collapsed": true
   },
   "outputs": [],
   "source": [
    "model = grid.best_estimator_\n"
   ]
  },
  {
   "cell_type": "markdown",
   "metadata": {},
   "source": [
    "#### Looking at feature importances"
   ]
  },
  {
   "cell_type": "code",
   "execution_count": 58,
   "metadata": {},
   "outputs": [
    {
     "name": "stdout",
     "output_type": "stream",
     "text": [
      "Feature ranking:\n",
      "Sunset_x: 0.247520265326\n",
      "Sunrise_x: 0.165982650846\n",
      "Longitude: 0.140331412152\n",
      "year: 0.0968532150791\n",
      "Trap: 0.0645847678559\n",
      "Latitude: 0.0356659711058\n",
      "Species: 0.0229748366818\n",
      "DewPoint_x: 0.0208560766766\n",
      "BR_x: 0.0177591749665\n",
      "ResultDir_y: 0.0167597259834\n",
      "ResultDir_x: 0.0167313692\n",
      "Tmin_y: 0.0157730401195\n",
      "month: 0.0148742753662\n",
      "DewPoint_y: 0.0146630909879\n",
      "spray_2013-09-05T00:00:00.000000000_10: 0.0143729400552\n",
      "WetBulb_x: 0.0108007777967\n",
      "BR_y: 0.00665100537541\n",
      "Tmin_x: 0.00661094174903\n",
      "PrecipTotal_x: 0.00660082928063\n",
      "day: 0.00619923744976\n",
      "TS_x: 0.00605966051553\n",
      "Tmax_x: 0.00591833884789\n",
      "ResultSpeed_x: 0.00586227817719\n",
      "ResultSpeed_y: 0.00462750743718\n",
      "Street: 0.00457787434076\n",
      "Lat_int: 0.00334541884954\n",
      "spray_2013-07-25T00:00:00.000000000_10: 0.00259438947451\n",
      "TSRA_x: 0.00257283087922\n",
      "Depart_x: 0.00247896371376\n",
      "Tavg_y: 0.0023728554205\n",
      "Tavg_x: 0.0023408015271\n",
      "spray_2013-08-16T00:00:00.000000000_10: 0.00216919229655\n",
      "AvgSpeed_x: 0.00214093320019\n",
      "FG_x: 0.00210159116119\n",
      "PrecipTotal_y: 0.00188563876432\n",
      "WetBulb_y: 0.00153761088034\n",
      "Block: 0.00149105269008\n",
      "AddressAccuracy: 0.0014806275319\n",
      "Tmax_y: 0.00089211266291\n",
      "AvgSpeed_y: 0.000535039972011\n",
      "SeaLevel_x: 0.000449677603642\n",
      "spray_2013-08-29T00:00:00.000000000_10: 0.0\n",
      "spray_2013-08-22T00:00:00.000000000_10: 0.0\n",
      "spray_2013-08-15T00:00:00.000000000_10: 0.0\n",
      "spray_2013-08-08T00:00:00.000000000_10: 0.0\n",
      "spray_2013-07-17T00:00:00.000000000_10: 0.0\n",
      "spray_2011-09-07T00:00:00.000000000_10: 0.0\n",
      "spray_2011-08-29T00:00:00.000000000_10: 0.0\n",
      "GR_y: 0.0\n",
      "VCFG_y: 0.0\n",
      "SN_y: 0.0\n",
      "SQ_y: 0.0\n",
      "FG_y: 0.0\n",
      "MIFG_y: 0.0\n",
      "FG+_y: 0.0\n",
      "BCFG_y: 0.0\n",
      "DZ_y: 0.0\n",
      "TS_y: 0.0\n",
      "FU_y: 0.0\n",
      "VCTS_y: 0.0\n",
      "TSRA_y: 0.0\n",
      "RA_y: 0.0\n",
      "HZ_y: 0.0\n",
      "SeaLevel_y: 0.0\n",
      "StnPressure_y: 0.0\n",
      "Cool_y: 0.0\n",
      "Heat_y: 0.0\n",
      "GR_x: 0.0\n",
      "VCFG_x: 0.0\n",
      "SN_x: 0.0\n",
      "SQ_x: 0.0\n",
      "MIFG_x: 0.0\n",
      "FG+_x: 0.0\n",
      "BCFG_x: 0.0\n",
      "DZ_x: 0.0\n",
      "FU_x: 0.0\n",
      "VCTS_x: 0.0\n",
      "RA_x: 0.0\n",
      "HZ_x: 0.0\n",
      "StnPressure_x: 0.0\n",
      "SnowFall_x: 0.0\n",
      "Depth_x: 0.0\n",
      "Cool_x: 0.0\n",
      "Heat_x: 0.0\n",
      "Long_int: 0.0\n"
     ]
    },
    {
     "data": {
      "text/plain": [
       "<matplotlib.axes._subplots.AxesSubplot at 0x7f4888327b50>"
      ]
     },
     "execution_count": 58,
     "metadata": {},
     "output_type": "execute_result"
    },
    {
     "data": {
      "image/png": "[encoded data removed]",
      "text/plain": [
       "<matplotlib.figure.Figure at 0x7f4880dd3690>"
      ]
     },
     "metadata": {},
     "output_type": "display_data"
    }
   ],
   "source": [
    "# Zipping feature importances and sorting by how importnat they are\n",
    "importances = zip(train.columns,model.feature_importances_)\n",
    "importances.sort(key=lambda x: x[1])\n",
    "importances = importances[::-1]\n",
    "std = np.std([tree.feature_importances_ for tree in model.estimators_],\n",
    "             axis=0)\n",
    "\n",
    "# Print the feature ranking\n",
    "print(\"Feature ranking:\")\n",
    "\n",
    "for f in range(train.shape[1]):\n",
    "    print(\"{}: {}\".format(importances[f][0], importances[f][1]))\n",
    "\n",
    "# Plot the feature importances of the forest\n",
    "sns.barplot(x=train.columns, y=model.feature_importances_)\n"
   ]
  },
  {
   "cell_type": "code",
   "execution_count": 59,
   "metadata": {},
   "outputs": [
    {
     "data": {
      "text/plain": [
       "{'criterion': 'gini',\n",
       " 'max_depth': 4,\n",
       " 'max_features': 50,\n",
       " 'min_samples_split': 2,\n",
       " 'n_estimators': 15}"
      ]
     },
     "execution_count": 59,
     "metadata": {},
     "output_type": "execute_result"
    }
   ],
   "source": [
    "grid.best_params_"
   ]
  }
 ],
 "metadata": {
  "kernelspec": {
   "display_name": "Python 2",
   "language": "python",
   "name": "python2"
  },
  "language_info": {
   "codemirror_mode": {
    "name": "ipython",
    "version": 2
   },
   "file_extension": ".py",
   "mimetype": "text/x-python",
   "name": "python",
   "nbconvert_exporter": "python",
   "pygments_lexer": "ipython2",
   "version": "2.7.13"
  }
 },
 "nbformat": 4,
 "nbformat_minor": 2
}
